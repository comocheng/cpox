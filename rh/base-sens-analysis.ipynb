{
 "cells": [
  {
   "cell_type": "code",
   "execution_count": 124,
   "metadata": {},
   "outputs": [],
   "source": [
    "import pandas as pd\n",
    "import re"
   ]
  },
  {
   "cell_type": "code",
   "execution_count": 125,
   "metadata": {},
   "outputs": [],
   "source": [
    "subs = \"\"\"title = re.sub(re.escape('[O][O] + 2 [Pt] <=> 2 O=[Pt]'), 'R1', title)\n",
    "    title = re.sub(re.escape('C + 2 [Pt] <=> C[Pt] + [Pt]'), 'R4', title)\n",
    "    title = re.sub(re.escape('C + O=[Pt] + [Pt] <=> C[Pt] + O[Pt]'), 'R5', title)\n",
    "    title = re.sub(re.escape('C + O[Pt] + [Pt] <=> C[Pt] + O.[Pt]'), 'R12', title)\n",
    "    title = re.sub(re.escape('2 C=[Pt] <=> C[Pt] + C#[Pt]'), 'R33', title)\n",
    "    title = re.sub(re.escape('C=[Pt] + O[Pt] <=> C[Pt] + O=[Pt]'), 'R31', title)\n",
    "    title = re.sub(re.escape('[Pt] + O=[Pt] <=> O[Pt] + [Pt]'), 'R3', title)\n",
    "    title = re.sub(re.escape('C=[Pt] + [Pt] <=> C[Pt] + [Pt]'), 'R6', title)\n",
    "    title = re.sub(re.escape('C#[Pt] + [Pt] <=> C=[Pt] + [Pt]'), 'R7', title)\n",
    "    title = re.sub(re.escape('C + [Pt] <=> C.[Pt]'), 'R19', title)\n",
    "    title = re.sub(re.escape('C#[Pt] + O[Pt] <=> C=[Pt] + O=[Pt]'), 'R32', title)\n",
    "    title = re.sub(re.escape('C=[Pt] + C~[Pt] <=> 2 C#[Pt]'), 'R36', title)\n",
    "    title = re.sub(re.escape('C[Pt] + C~[Pt] <=> C=[Pt] + C#[Pt]'), 'R35', title)\n",
    "    title = re.sub(re.escape('C~[Pt] + [H][H] <=> C=[Pt]'), 'R9', title)\n",
    "    title = re.sub(re.escape('[H][H] + 2 [Pt] <=> 2 [Pt]'), 'R2', title)\n",
    "    title = re.sub(re.escape('[H][H] + [Pt] <=> [H][H].[Pt]'), 'R20', title)\n",
    "    title = re.sub(re.escape('O=C=O + [Pt] <=> O=C=O.[Pt]'), 'R16', title)\n",
    "    title = re.sub(re.escape('O=C=O.[Pt] + [Pt] <=> O[Pt] + O=C=[Pt]'), 'R18', title)\n",
    "    title = re.sub(re.escape('O=C=[Pt] + O=[Pt] <=> O=C=O.[Pt] + [Pt]'), 'R17', title)\n",
    "    title = re.sub(re.escape('CO + 2 [Pt] <=> C[Pt] + O[Pt]'), 'R28', title)\n",
    "    title = re.sub(re.escape('C=[Pt] + O=C[Pt] <=> C[Pt] + O=C=[Pt]'), 'R38', title)\n",
    "    title = re.sub(re.escape('CC + 2 [Pt] <=> 2 C[Pt]'), 'R27', title)\n",
    "    title = re.sub(re.escape('C~[Pt] + O=[Pt] <=> O=C=[Pt] + [Pt]'), 'R11', title)\n",
    "    title = re.sub(re.escape('C~[Pt] + O[Pt] <=> C#[Pt] + O=[Pt]'), 'R34', title)\n",
    "    title = re.sub(re.escape('O=C[Pt] + C~[Pt] <=> C#[Pt] + O=C=[Pt]'), 'R40', title)\n",
    "    title = re.sub(re.escape('[OH] + [Pt] <=> O[Pt]'), 'R23', title)\n",
    "    title = re.sub(re.escape('[H] + [Pt] <=> [Pt]'), 'R22', title)\n",
    "    title = re.sub(re.escape('[CH3] + [Pt] <=> C[Pt]'), 'R24', title)\n",
    "    title = re.sub(re.escape('O + [Pt] <=> O.[Pt]'), 'R13', title)\n",
    "    title = re.sub(re.escape('O + 2 [Pt] <=> O[Pt] + [Pt]'), 'R26', title)\n",
    "    title = re.sub(re.escape('O[Pt] + [Pt] <=> O.[Pt] + [Pt]'), 'R15', title)\n",
    "    title = re.sub(re.escape('O.[Pt] + O=[Pt] <=> 2 O[Pt]'), 'R14', title)\n",
    "    title = re.sub(re.escape('O=C[Pt] + O=[Pt] <=> O[Pt] + O=C=[Pt]'), 'R37', title)\n",
    "    title = re.sub(re.escape('O=C[Pt] + C#[Pt] <=> C=[Pt] + O=C=[Pt]'), 'R39', title)\n",
    "    title = re.sub(re.escape('O=C[Pt] + [Pt] <=> [Pt] + O=C=[Pt]'), 'R41', title)\n",
    "    title = re.sub(re.escape('[CH]=O + [Pt] <=> O=C[Pt]'), 'R25', title)\n",
    "    title = re.sub(re.escape('C=O + 2 [Pt] <=> O=C[Pt] + [Pt]'), 'R29', title)\n",
    "    title = re.sub(re.escape('CC=O + 2 [Pt] <=> C[Pt] + O=C[Pt]'), 'R30', title)\n",
    "    title = re.sub(re.escape('[C-]#[O+] + [Pt] <=> O=C=[Pt]'), 'R10', title)\n",
    "    title = re.sub(re.escape('[C-]#[O+] + [Pt] <=> [C-]#[O+].[Pt]'), 'R21', title)\n",
    "    title = re.sub(re.escape('C#[Pt] + [Pt] <=> C~[Pt] + [Pt]'), 'R8', title)\"\"\"\n",
    "translation = {}\n",
    "for l in subs.split(\"\\n\"):\n",
    "    reaction, label = l.lstrip(\"\"\"title = re.sub(re.escape('\"\"\").strip(\"\"\", title)\"\"\").split(\"'), \")\n",
    "    label = label.strip(\"'\").lstrip(\"'\")\n",
    "    translation[reaction] = label"
   ]
  },
  {
   "cell_type": "code",
   "execution_count": 151,
   "metadata": {},
   "outputs": [],
   "source": [
    "subs = \"\"\"title = re.sub(re.escape('[O][O] + 2 [Pt] <=> 2 O=[Pt]'), 'R1', title)\n",
    "    title = re.sub(re.escape('C + 2 [Pt] <=> C[Pt] + [Pt]'), 'R4', title)\n",
    "    title = re.sub(re.escape('C + O=[Pt] + [Pt] <=> C[Pt] + O[Pt]'), 'R5', title)\n",
    "    title = re.sub(re.escape('C + O[Pt] + [Pt] <=> C[Pt] + O.[Pt]'), 'R12', title)\n",
    "    title = re.sub(re.escape('2 C=[Pt] <=> C[Pt] + C#[Pt]'), 'R32', title)\n",
    "    title = re.sub(re.escape('C=[Pt] + O[Pt] <=> C[Pt] + O=[Pt]'), 'R30', title)\n",
    "    title = re.sub(re.escape('[Pt] + O=[Pt] <=> O[Pt] + [Pt]'), 'R3', title)\n",
    "    title = re.sub(re.escape('C=[Pt] + [Pt] <=> C[Pt] + [Pt]'), 'R6', title)\n",
    "    title = re.sub(re.escape('C#[Pt] + [Pt] <=> C=[Pt] + [Pt]'), 'R7', title)\n",
    "    title = re.sub(re.escape('C + [Pt] <=> C.[Pt]'), 'R19', title)\n",
    "    title = re.sub(re.escape('C#[Pt] + O[Pt] <=> C=[Pt] + O=[Pt]'), 'R31', title)\n",
    "    title = re.sub(re.escape('C=[Pt] + C~[Pt] <=> 2 C#[Pt]'), 'R35', title)\n",
    "    title = re.sub(re.escape('C[Pt] + C~[Pt] <=> C=[Pt] + C#[Pt]'), 'R34', title)\n",
    "    title = re.sub(re.escape('C~[Pt] + [H][H] <=> C=[Pt]'), 'R9', title)\n",
    "    title = re.sub(re.escape('[H][H] + 2 [Pt] <=> 2 [Pt]'), 'R2', title)\n",
    "    title = re.sub(re.escape('[H][H] + [Pt] <=> [H][H].[Pt]'), 'R20', title)\n",
    "    title = re.sub(re.escape('O=C=O + [Pt] <=> O=C=O.[Pt]'), 'R16', title)\n",
    "    title = re.sub(re.escape('O=C=O.[Pt] + [Pt] <=> O[Pt] + O=C=[Pt]'), 'R18', title)\n",
    "    title = re.sub(re.escape('O=C=[Pt] + O=[Pt] <=> O=C=O.[Pt] + [Pt]'), 'R17', title)\n",
    "    title = re.sub(re.escape('CO + 2 [Pt] <=> C[Pt] + O[Pt]'), 'R27', title)\n",
    "    title = re.sub(re.escape('C=[Pt] + O=C[Pt] <=> C[Pt] + O=C=[Pt]'), 'R37', title)\n",
    "    title = re.sub(re.escape('CC + 2 [Pt] <=> 2 C[Pt]'), 'R26', title)\n",
    "    title = re.sub(re.escape('C~[Pt] + O=[Pt] <=> O=C=[Pt] + [Pt]'), 'R11', title)\n",
    "    title = re.sub(re.escape('C~[Pt] + O[Pt] <=> C#[Pt] + O=[Pt]'), 'R33', title)\n",
    "    title = re.sub(re.escape('O=C[Pt] + C~[Pt] <=> C#[Pt] + O=C=[Pt]'), 'R39', title)\n",
    "    title = re.sub(re.escape('[OH] + [Pt] <=> O[Pt]'), 'R22', title)\n",
    "    title = re.sub(re.escape('[H] + [Pt] <=> [Pt]'), 'R21', title)\n",
    "    title = re.sub(re.escape('[CH3] + [Pt] <=> C[Pt]'), 'R23', title)\n",
    "    title = re.sub(re.escape('O + [Pt] <=> O.[Pt]'), 'R13', title)\n",
    "    title = re.sub(re.escape('O + 2 [Pt] <=> O[Pt] + [Pt]'), 'R25', title)\n",
    "    title = re.sub(re.escape('O[Pt] + [Pt] <=> O.[Pt] + [Pt]'), 'R15', title)\n",
    "    title = re.sub(re.escape('O.[Pt] + O=[Pt] <=> 2 O[Pt]'), 'R14', title)\n",
    "    title = re.sub(re.escape('O=C[Pt] + O=[Pt] <=> O[Pt] + O=C=[Pt]'), 'R36', title)\n",
    "    title = re.sub(re.escape('O=C[Pt] + C#[Pt] <=> C=[Pt] + O=C=[Pt]'), 'R38', title)\n",
    "    title = re.sub(re.escape('O=C[Pt] + [Pt] <=> [Pt] + O=C=[Pt]'), 'R40', title)\n",
    "    title = re.sub(re.escape('[CH]=O + [Pt] <=> O=C[Pt]'), 'R24', title)\n",
    "    title = re.sub(re.escape('C=O + 2 [Pt] <=> O=C[Pt] + [Pt]'), 'R28', title)\n",
    "    title = re.sub(re.escape('CC=O + 2 [Pt] <=> C[Pt] + O=C[Pt]'), 'R29', title)\n",
    "    title = re.sub(re.escape('[C-]#[O+] + [Pt] <=> O=C=[Pt]'), 'R10', title)\n",
    "    title = re.sub(re.escape('C#[Pt] + [Pt] <=> C~[Pt] + [Pt]'), 'R8', title)\n",
    "    title = re.sub(re.escape('[C-]#[O+] + [Pt] <=> [C-]#[O+].[Pt]'), 'R', title)\"\"\"\n",
    "translation = {}\n",
    "for l in subs.split(\"\\n\"):\n",
    "    reaction, label = l.lstrip(\"\"\"title = re.sub(re.escape('\"\"\").strip(\"\"\", title)\"\"\").split(\"'), \")\n",
    "    label = label.strip(\"'\").lstrip(\"'\")\n",
    "    translation[reaction] = label"
   ]
  },
  {
   "cell_type": "code",
   "execution_count": 152,
   "metadata": {},
   "outputs": [],
   "source": [
    "def import_sensitivities(ratio):\n",
    "    \"\"\"\n",
    "    Ratio is the C/O starting gas ratio\n",
    "    file_location is the LSR C and O binding energy, fasle to load the base case\n",
    "    thermo is either False to load reaction sensitivities or True to load thermo sensitivities\n",
    "    \"\"\"\n",
    "    data = pd.read_csv('./sensitivities/' + str(ratio) + 'RxnSensitivity.csv')\n",
    "    data = data.get_values()\n",
    "    data = data.tolist()\n",
    "    return data"
   ]
  },
  {
   "cell_type": "code",
   "execution_count": 153,
   "metadata": {},
   "outputs": [],
   "source": [
    "ratios = [0.6, 0.7, 0.8, 0.9, 1.0, 1.1, 1.2, 1.3, 1.4, 1.6, 1.8, 2.0, 2.2, 2.4, 2.6]\n",
    "sens_types = ['SynGas Selectivity', 'SynGas Yield', 'CO Selectivity', 'CO Yield',\n",
    "              'H2 Selectivity', 'H2 Yield', 'CH4 Conversion', 'CO2+H2O Selectivity',\n",
    "              'CO2+H2O Yield', 'Exit Temperature', 'Maximum Temperature',\n",
    "              'Dist to Max Temperature', 'O2 Conversion']\n",
    "sens_data = []"
   ]
  },
  {
   "cell_type": "code",
   "execution_count": 154,
   "metadata": {},
   "outputs": [
    {
     "name": "stderr",
     "output_type": "stream",
     "text": [
      "/Users/emilymazeau/anaconda2/envs/rmg_env/lib/python3.7/site-packages/ipykernel_launcher.py:8: FutureWarning: The 'get_values' method is deprecated and will be removed in a future version. Use '.values' or 'np.asarray(..)' instead.\n",
      "  \n"
     ]
    }
   ],
   "source": [
    "for r in ratios:\n",
    "    sens_data.append(import_sensitivities(r))"
   ]
  },
  {
   "cell_type": "code",
   "execution_count": 155,
   "metadata": {},
   "outputs": [],
   "source": [
    "reactions = set()  # create list of unique reactions\n",
    "for r in range(len(sens_data[0])):  # for each reaction\n",
    "    reactions.add(sens_data[0][r][1])  # append the reaction itself\n",
    "reactions = list(sens_data)"
   ]
  },
  {
   "cell_type": "code",
   "execution_count": 156,
   "metadata": {},
   "outputs": [],
   "source": [
    "def get_sens_data(sens_data, s):\n",
    "    ratios = [0.6, 0.7, 0.8, 0.9, 1.0, 1.1, 1.2, 1.3, 1.4, 1.6, 1.8, 2.0, 2.2, 2.4, 2.6]\n",
    "    data = []\n",
    "    for ratio in range(len(ratios)):\n",
    "        tmp = []\n",
    "        for rxn in range(len(sens_data[0])):\n",
    "            tmp.append([translation[sens_data[ratio][rxn][1]], abs(sens_data[ratio][rxn][s+2])])\n",
    "        tmp = sorted(tmp, key=lambda l:l[1], reverse=True)\n",
    "#         tmp = sorted(tmp, key=itemgetter(1))\n",
    "        print(ratios[ratio])\n",
    "        for x in range(5):\n",
    "            print(tmp[x])\n"
   ]
  },
  {
   "cell_type": "code",
   "execution_count": 157,
   "metadata": {},
   "outputs": [
    {
     "name": "stdout",
     "output_type": "stream",
     "text": [
      "0.6\n",
      "['R28', 0.126421956119936]\n",
      "['R23', 0.036392163036518516]\n",
      "['R1', 0.012311483353239585]\n",
      "['R5', 0.007398741513790155]\n",
      "['R2', 0.002950308785894069]\n",
      "0.7\n",
      "['R5', 0.03095636114371152]\n",
      "['R23', 0.026540870280597685]\n",
      "['R1', 0.013702708609123196]\n",
      "['R9', 0.0082536962804175]\n",
      "['R14', 0.004995065187709501]\n",
      "0.8\n",
      "['R5', 0.06395177318781417]\n",
      "['R23', 0.02447646313799672]\n",
      "['R40', 0.024474660692688437]\n",
      "['R1', 0.019442058824430127]\n",
      "['R16', 0.018193398175482437]\n",
      "0.9\n",
      "['R5', 0.08476392480183734]\n",
      "['R20', 0.033779160474932006]\n",
      "['R23', 0.027100308332331915]\n",
      "['R4', 0.017376866104131306]\n",
      "['R40', 0.01504334102887535]\n",
      "1.0\n",
      "['R38', 0.09922576907229093]\n",
      "['R5', 0.09221971176839466]\n",
      "['R31', 0.02623289829136383]\n",
      "['R1', 0.016746301203627426]\n",
      "['R19', 0.015732307077094047]\n",
      "1.1\n",
      "['R6', 0.2656530070067363]\n",
      "['R5', 0.08851475692155188]\n",
      "['R36', 0.08006472737861803]\n",
      "['R25', 0.027103708527202657]\n",
      "['R29', 0.019513564069404663]\n",
      "1.2\n",
      "['R32', 0.1214848202482932]\n",
      "['R5', 0.0771496275012416]\n",
      "['R9', 0.06072432816507186]\n",
      "['R25', 0.05781037298176536]\n",
      "['R1', 0.05384585019180664]\n",
      "1.3\n",
      "['R5', 0.23552941601464006]\n",
      "['R7', 0.029900781761582687]\n",
      "['R28', 0.01456259699557006]\n",
      "['R31', 0.014562585273390376]\n",
      "['R9', 0.014562581523029982]\n",
      "1.4\n",
      "['R5', 0.1419348782908258]\n",
      "['R24', 0.06432132344909912]\n",
      "['R9', 0.06432119753419649]\n",
      "['R13', 0.0523368278970401]\n",
      "['R18', 0.05233648752480922]\n",
      "1.6\n",
      "['R5', 0.1596596123233459]\n",
      "['R25', 0.1563099289367179]\n",
      "['R7', 0.13925166627800584]\n",
      "['R8', 0.0803877821753819]\n",
      "['R26', 0.06435779947617701]\n",
      "1.8\n",
      "['R38', 0.4911445217023431]\n",
      "['R17', 0.4910938660781531]\n",
      "['R21', 0.4856634040854884]\n",
      "['R20', 0.4856448287258049]\n",
      "['R1', 0.4849860664991633]\n",
      "2.0\n",
      "['R5', 0.24722637949605036]\n",
      "['R22', 0.11360157776840404]\n",
      "['R25', 0.0698370090597884]\n",
      "['R35', 0.0654020099384226]\n",
      "['R14', 0.05188677929839726]\n",
      "2.2\n",
      "['R5', 0.10637297313069592]\n",
      "['R34', 0.06066488702102665]\n",
      "['R14', 0.06038458181144344]\n",
      "['R1', 0.059882993064707624]\n",
      "['R31', 0.04729668589202405]\n",
      "2.4\n",
      "['R28', 0.2358872809758853]\n",
      "['R4', 0.20491527046353672]\n",
      "['R39', 0.1173763792102046]\n",
      "['R5', 0.1135844536372882]\n",
      "['R1', 0.08103567538760671]\n",
      "2.6\n",
      "['R5', 0.30820884744854915]\n",
      "['R8', 0.26633383050288945]\n",
      "['R38', 0.2663337980892819]\n",
      "['R12', 0.23089786598641265]\n",
      "['R25', 0.029943444363441613]\n"
     ]
    }
   ],
   "source": [
    "get_sens_data(sens_data, 1)"
   ]
  },
  {
   "cell_type": "code",
   "execution_count": 158,
   "metadata": {},
   "outputs": [],
   "source": [
    "ratios = [0.6, 0.7, 0.8, 0.9, 1.0, 1.1, 1.2, 1.3, 1.4, 1.6, 1.8, 2.0, 2.2, 2.4, 2.6]\n",
    "sens_types = ['SynGas Selectivity', 'SynGas Yield', 'CO Selectivity', 'CO Yield',\n",
    "              'H2 Selectivity', 'H2 Yield', 'CH4 Conversion', 'CO2+H2O Selectivity',\n",
    "              'CO2+H2O Yield', 'Exit Temperature', 'Maximum Temperature',\n",
    "              'Dist to Max Temperature', 'O2 Conversion']\n",
    "data = []\n",
    "\n",
    "sens = 1\n",
    "for rxn in range(len(sens_data[0])):\n",
    "    tmp = 0.\n",
    "    for ratio in range(len(ratios)):\n",
    "        tmp += abs(sens_data[ratio][rxn][sens+2])\n",
    "    data.append([translation[sens_data[ratio][rxn][1]], tmp])\n",
    "        \n"
   ]
  },
  {
   "cell_type": "code",
   "execution_count": 159,
   "metadata": {},
   "outputs": [],
   "source": [
    "data = sorted(data, key=lambda l:l[1], reverse=True)"
   ]
  },
  {
   "cell_type": "code",
   "execution_count": 160,
   "metadata": {},
   "outputs": [
    {
     "data": {
      "text/plain": [
       "[['R5', 1.903939343618573],\n",
       " ['R38', 1.0329608280409437],\n",
       " ['R1', 0.8207969227656747],\n",
       " ['R20', 0.65091577415307],\n",
       " ['R3', 0.6233556112915264],\n",
       " ['R30', 0.597680829744683],\n",
       " ['R17', 0.5778864234275358],\n",
       " ['R21', 0.5381773776633934],\n",
       " ['R8', 0.5068024293267828],\n",
       " ['R28', 0.5012132548145867],\n",
       " ['R25', 0.4725557419318153],\n",
       " ['R6', 0.3652174468997902],\n",
       " ['R4', 0.3518819090943712],\n",
       " ['R7', 0.3178033882775729],\n",
       " ['R12', 0.3124434213848956],\n",
       " ['R39', 0.3077108242391282],\n",
       " ['R31', 0.285420051028179],\n",
       " ['R9', 0.26284951602087214],\n",
       " ['R23', 0.23352150424720552],\n",
       " ['R22', 0.23304271090315862],\n",
       " ['R10', 0.20185522620674812],\n",
       " ['R14', 0.1970106234078153],\n",
       " ['R32', 0.1851612679186371],\n",
       " ['R15', 0.18094309813875567],\n",
       " ['R37', 0.17997668003069883],\n",
       " ['R18', 0.17012471228253317],\n",
       " ['R16', 0.16922892650001428],\n",
       " ['R26', 0.1622046892457055],\n",
       " ['R29', 0.16159293406121333],\n",
       " ['R24', 0.1598734346115695],\n",
       " ['R34', 0.15875936548830563],\n",
       " ['R13', 0.1555434001182839],\n",
       " ['R35', 0.1535831971968939],\n",
       " ['R36', 0.15247990164401973],\n",
       " ['R40', 0.14712109957415806],\n",
       " ['R2', 0.14463326514833114],\n",
       " ['R19', 0.14000062242560427],\n",
       " ['R11', 0.12317255512222537],\n",
       " ['R', 0.11835965163555207],\n",
       " ['R27', 0.10887342802045709],\n",
       " ['R33', 0.09984346945031565]]"
      ]
     },
     "execution_count": 160,
     "metadata": {},
     "output_type": "execute_result"
    }
   ],
   "source": [
    "data"
   ]
  },
  {
   "cell_type": "code",
   "execution_count": 161,
   "metadata": {},
   "outputs": [
    {
     "name": "stderr",
     "output_type": "stream",
     "text": [
      "/Users/emilymazeau/anaconda2/envs/rmg_env/lib/python3.7/site-packages/ipykernel_launcher.py:8: FutureWarning: The 'get_values' method is deprecated and will be removed in a future version. Use '.values' or 'np.asarray(..)' instead.\n",
      "  \n"
     ]
    }
   ],
   "source": [
    "test = import_sensitivities(1.0)"
   ]
  },
  {
   "cell_type": "code",
   "execution_count": 176,
   "metadata": {},
   "outputs": [],
   "source": [
    "sens_types = ['SynGas Selectivity', 'SynGas Yield', 'CO Selectivity', 'CO Yield',\n",
    "              'H2 Selectivity', 'H2 Yield', 'CH4 Conversion', 'CO2+H2O Selectivity',\n",
    "              'CO2+H2O Yield', 'Exit Temperature', 'Maximum Temperature',\n",
    "              'Dist to Max Temperature', 'O2 Conversion']\n",
    "t = []\n",
    "for x in range(len(test)):\n",
    "    t.append([translation[test[x][1]], test[x][1], test[x][3]])\n",
    "\n",
    "t = sorted(t, key=lambda l:l[2], reverse=True)"
   ]
  },
  {
   "cell_type": "code",
   "execution_count": 177,
   "metadata": {},
   "outputs": [
    {
     "name": "stdout",
     "output_type": "stream",
     "text": [
      "R38\t&O=C[Pt] + C#[Pt] <=> C=[Pt] + O=C=[Pt]\t&9.923e-02\\\n",
      "R5\t&C + O=[Pt] + [Pt] <=> C[Pt] + O[Pt]\t&9.222e-02\\\n",
      "R19\t&C + [Pt] <=> C.[Pt]\t&1.573e-02\\\n",
      "R23\t&[CH3] + [Pt] <=> C[Pt]\t&1.313e-02\\\n",
      "R24\t&[CH]=O + [Pt] <=> O=C[Pt]\t&8.983e-03\\\n",
      "R36\t&O=C[Pt] + O=[Pt] <=> O[Pt] + O=C=[Pt]\t&8.983e-03\\\n",
      "R7\t&C#[Pt] + [Pt] <=> C=[Pt] + [Pt]\t&8.983e-03\\\n",
      "R20\t&[H][H] + [Pt] <=> [H][H].[Pt]\t&8.983e-03\\\n",
      "R40\t&O=C[Pt] + [Pt] <=> [Pt] + O=C=[Pt]\t&5.893e-03\\\n",
      "R\t&[C-]#[O+] + [Pt] <=> [C-]#[O+].[Pt]\t&5.893e-03\\\n",
      "R37\t&C=[Pt] + O=C[Pt] <=> C[Pt] + O=C=[Pt]\t&5.893e-03\\\n",
      "R39\t&O=C[Pt] + C~[Pt] <=> C#[Pt] + O=C=[Pt]\t&5.893e-03\\\n",
      "R21\t&[H] + [Pt] <=> [Pt]\t&1.273e-03\\\n",
      "R4\t&C + 2 [Pt] <=> C[Pt] + [Pt]\t&1.087e-03\\\n",
      "R25\t&O + 2 [Pt] <=> O[Pt] + [Pt]\t&7.314e-04\\\n",
      "R12\t&C + O[Pt] + [Pt] <=> C[Pt] + O.[Pt]\t&5.074e-04\\\n",
      "R15\t&O[Pt] + [Pt] <=> O.[Pt] + [Pt]\t&1.079e-05\\\n",
      "R18\t&O=C=O.[Pt] + [Pt] <=> O[Pt] + O=C=[Pt]\t&1.134e-08\\\n",
      "R14\t&O.[Pt] + O=[Pt] <=> 2 O[Pt]\t&-8.612e-04\\\n",
      "R2\t&[H][H] + 2 [Pt] <=> 2 [Pt]\t&-1.046e-03\\\n",
      "R33\t&C~[Pt] + O[Pt] <=> C#[Pt] + O=[Pt]\t&-1.150e-03\\\n",
      "R29\t&CC=O + 2 [Pt] <=> C[Pt] + O=C[Pt]\t&-1.150e-03\\\n",
      "R6\t&C=[Pt] + [Pt] <=> C[Pt] + [Pt]\t&-1.899e-03\\\n",
      "R17\t&O=C=[Pt] + O=[Pt] <=> O=C=O.[Pt] + [Pt]\t&-1.945e-03\\\n",
      "R10\t&[C-]#[O+] + [Pt] <=> O=C=[Pt]\t&-2.467e-03\\\n",
      "R32\t&2 C=[Pt] <=> C[Pt] + C#[Pt]\t&-2.947e-03\\\n",
      "R34\t&C[Pt] + C~[Pt] <=> C=[Pt] + C#[Pt]\t&-2.947e-03\\\n",
      "R16\t&O=C=O + [Pt] <=> O=C=O.[Pt]\t&-2.976e-03\\\n",
      "R28\t&C=O + 2 [Pt] <=> O=C[Pt] + [Pt]\t&-3.559e-03\\\n",
      "R26\t&CC + 2 [Pt] <=> 2 C[Pt]\t&-1.239e-02\\\n",
      "R27\t&CO + 2 [Pt] <=> C[Pt] + O[Pt]\t&-1.240e-02\\\n",
      "R3\t&[Pt] + O=[Pt] <=> O[Pt] + [Pt]\t&-1.240e-02\\\n",
      "R9\t&C~[Pt] + [H][H] <=> C=[Pt]\t&-1.240e-02\\\n",
      "R8\t&C#[Pt] + [Pt] <=> C~[Pt] + [Pt]\t&-1.240e-02\\\n",
      "R35\t&C=[Pt] + C~[Pt] <=> 2 C#[Pt]\t&-1.240e-02\\\n",
      "R13\t&O + [Pt] <=> O.[Pt]\t&-1.240e-02\\\n",
      "R30\t&C=[Pt] + O[Pt] <=> C[Pt] + O=[Pt]\t&-1.259e-02\\\n",
      "R22\t&[OH] + [Pt] <=> O[Pt]\t&-1.364e-02\\\n",
      "R11\t&C~[Pt] + O=[Pt] <=> O=C=[Pt] + [Pt]\t&-1.364e-02\\\n",
      "R1\t&[O][O] + 2 [Pt] <=> 2 O=[Pt]\t&-1.675e-02\\\n",
      "R31\t&C#[Pt] + O[Pt] <=> C=[Pt] + O=[Pt]\t&-2.623e-02\\\n"
     ]
    }
   ],
   "source": [
    "for x in t:\n",
    "    print(\"{}\\t&{}\\t&{:.3e}\\\\\".format(x[0], x[1],x[2]))"
   ]
  },
  {
   "cell_type": "code",
   "execution_count": null,
   "metadata": {},
   "outputs": [],
   "source": []
  }
 ],
 "metadata": {
  "kernelspec": {
   "display_name": "Python 3",
   "language": "python",
   "name": "python3"
  },
  "language_info": {
   "codemirror_mode": {
    "name": "ipython",
    "version": 3
   },
   "file_extension": ".py",
   "mimetype": "text/x-python",
   "name": "python",
   "nbconvert_exporter": "python",
   "pygments_lexer": "ipython3",
   "version": "3.7.5"
  }
 },
 "nbformat": 4,
 "nbformat_minor": 2
}
